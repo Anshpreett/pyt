{
 "cells": [
  {
   "cell_type": "code",
   "execution_count": 10,
   "metadata": {},
   "outputs": [
    {
     "ename": "NameError",
     "evalue": "name 'math' is not defined",
     "output_type": "error",
     "traceback": [
      "\u001b[1;31m---------------------------------------------------------------------------\u001b[0m",
      "\u001b[1;31mNameError\u001b[0m                                 Traceback (most recent call last)",
      "Cell \u001b[1;32mIn[10], line 2\u001b[0m\n\u001b[0;32m      1\u001b[0m \u001b[39mfrom\u001b[39;00m \u001b[39mmath\u001b[39;00m \u001b[39mimport\u001b[39;00m sqrt, factorial\n\u001b[1;32m----> 2\u001b[0m \u001b[39mprint\u001b[39m(math\u001b[39m.\u001b[39msqrt(\u001b[39m13\u001b[39m))\n\u001b[0;32m      3\u001b[0m \u001b[39mprint\u001b[39m(math\u001b[39m.\u001b[39mpi)\n\u001b[0;32m      4\u001b[0m \u001b[39mprint\u001b[39m(math\u001b[39m.\u001b[39mfactorial(\u001b[39m15\u001b[39m))\n",
      "\u001b[1;31mNameError\u001b[0m: name 'math' is not defined"
     ]
    }
   ],
   "source": [
    "from math import sqrt, factorial"
   ]
  },
  {
   "cell_type": "code",
   "execution_count": null,
   "metadata": {},
   "outputs": [
    {
     "ename": "NameError",
     "evalue": "name 'math' is not defined",
     "output_type": "error",
     "traceback": [
      "\u001b[1;31m---------------------------------------------------------------------------\u001b[0m",
      "\u001b[1;31mNameError\u001b[0m                                 Traceback (most recent call last)",
      "Cell \u001b[1;32mIn[8], line 1\u001b[0m\n\u001b[1;32m----> 1\u001b[0m \u001b[39mprint\u001b[39m(math\u001b[39m.\u001b[39msqrt(\u001b[39m13\u001b[39m))\n\u001b[0;32m      2\u001b[0m \u001b[39mprint\u001b[39m(math\u001b[39m.\u001b[39mpi)\n\u001b[0;32m      3\u001b[0m \u001b[39mprint\u001b[39m(math\u001b[39m.\u001b[39mfactorial(\u001b[39m15\u001b[39m))\n",
      "\u001b[1;31mNameError\u001b[0m: name 'math' is not defined"
     ]
    }
   ],
   "source": [
    "print(math.sqrt(13))\n",
    "print(math.pi)\n",
    "print(math.factorial(15))\n",
    "print(math.log(100,10))\n",
    "print(math.log(100,2))\n",
    "print(math.gcd(12,14,18))\n",
    "print(math.lcm(34,5,57))"
   ]
  }
 ],
 "metadata": {
  "kernelspec": {
   "display_name": "base",
   "language": "python",
   "name": "python3"
  },
  "language_info": {
   "codemirror_mode": {
    "name": "ipython",
    "version": 3
   },
   "file_extension": ".py",
   "mimetype": "text/x-python",
   "name": "python",
   "nbconvert_exporter": "python",
   "pygments_lexer": "ipython3",
   "version": "3.10.10"
  },
  "orig_nbformat": 4
 },
 "nbformat": 4,
 "nbformat_minor": 2
}
