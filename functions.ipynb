{
 "cells": [
  {
   "cell_type": "code",
   "execution_count": null,
   "metadata": {},
   "outputs": [],
   "source": []
  },
  {
   "attachments": {},
   "cell_type": "markdown",
   "metadata": {},
   "source": [
    "# class and functions"
   ]
  },
  {
   "cell_type": "code",
   "execution_count": 1,
   "metadata": {},
   "outputs": [
    {
     "name": "stdout",
     "output_type": "stream",
     "text": [
      "True\n"
     ]
    }
   ],
   "source": [
    "def call ():\n",
    "    a=97\n",
    "    b=97\n",
    "    c=a==b\n",
    "    return(c)\n",
    "f=call()\n",
    "print(f)\n"
   ]
  },
  {
   "cell_type": "code",
   "execution_count": 2,
   "metadata": {},
   "outputs": [
    {
     "name": "stdout",
     "output_type": "stream",
     "text": [
      "79\n"
     ]
    }
   ],
   "source": [
    "def call(a,d):\n",
    "    f=a+d\n",
    "    return(f)\n",
    "g=call(23,56)\n",
    "print(g)"
   ]
  },
  {
   "cell_type": "code",
   "execution_count": 5,
   "metadata": {},
   "outputs": [
    {
     "name": "stdout",
     "output_type": "stream",
     "text": [
      "51 is not an emrip number\n"
     ]
    }
   ],
   "source": [
    "o=int(input(\"ENTER A NUMBER TO BE CHECKED AS EMRIP\"))\n",
    "def prime(a):\n",
    "    c=0\n",
    "    for i in range(1,a+1):\n",
    "        if a%i==0:\n",
    "            c=c+1\n",
    "    return (c)\n",
    "def rev(b):\n",
    "    r=b\n",
    "    s=0\n",
    "    while(r!=0):\n",
    "        f=r%10\n",
    "        s=(s*10)+f\n",
    "        r=r//10\n",
    "    h=prime(s)\n",
    "    return (h)\n",
    "j = prime(o)\n",
    "k = rev(o)\n",
    "if (j==2) and (k==2):\n",
    "    print(o,\"is a emrip number\")\n",
    "else:\n",
    "    print(o,\"is not an emrip number\")"
   ]
  },
  {
   "cell_type": "code",
   "execution_count": 3,
   "metadata": {},
   "outputs": [
    {
     "name": "stdout",
     "output_type": "stream",
     "text": [
      "12 is not a magic number\n"
     ]
    }
   ],
   "source": [
    "a=int(input(\"Enter a numder to be checked as a magic number\"))\n",
    "def magic(b):\n",
    "    s=0\n",
    "    while (b!=0):\n",
    "        d=b%10\n",
    "        s=s+d\n",
    "        b=b//10\n",
    "    if (s==1) or (s<10):\n",
    "        return s\n",
    "    else:\n",
    "        return (magic(s))\n",
    "c=magic(a)\n",
    "if c==1:\n",
    "    print(a,\"is a magic number\")\n",
    "else:\n",
    "    print(a,\"is not a magic number\")"
   ]
  }
 ],
 "metadata": {
  "kernelspec": {
   "display_name": "base",
   "language": "python",
   "name": "python3"
  },
  "language_info": {
   "codemirror_mode": {
    "name": "ipython",
    "version": 3
   },
   "file_extension": ".py",
   "mimetype": "text/x-python",
   "name": "python",
   "nbconvert_exporter": "python",
   "pygments_lexer": "ipython3",
   "version": "3.10.10"
  },
  "orig_nbformat": 4
 },
 "nbformat": 4,
 "nbformat_minor": 2
}
