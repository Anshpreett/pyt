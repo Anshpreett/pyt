{
 "cells": [
  {
   "cell_type": "code",
   "execution_count": 1,
   "metadata": {},
   "outputs": [
    {
     "name": "stdout",
     "output_type": "stream",
     "text": [
      "1\n",
      "5\n",
      "15\n"
     ]
    }
   ],
   "source": [
    "numbers = [1,2,3,4,5]\n",
    "print(min(numbers))\n",
    "print(max(numbers))\n",
    "print(sum(numbers))"
   ]
  },
  {
   "cell_type": "code",
   "execution_count": 2,
   "metadata": {},
   "outputs": [
    {
     "name": "stdout",
     "output_type": "stream",
     "text": [
      "The original list is: [1, 2, 3, 4, 5]\n",
      "After converting to tuple:-  (1, 2, 3, 4, 5)\n",
      "<class 'tuple'> is the type of n.\n"
     ]
    }
   ],
   "source": [
    "num=[1,2,3,4,5]\n",
    "n=tuple(num)\n",
    "print(\"The original list is:\",num)\n",
    "print(\"After converting to tuple:- \",n)\n",
    "print(type(n),\"is the type of n.\")"
   ]
  },
  {
   "cell_type": "code",
   "execution_count": 3,
   "metadata": {},
   "outputs": [
    {
     "name": "stdout",
     "output_type": "stream",
     "text": [
      "{0: 'apple', 1: 'banana', 2: 'cherry'}\n"
     ]
    }
   ],
   "source": [
    "d = {key: value for key, value in enumerate(['apple', 'banana', 'cherry'])}\n",
    "\n",
    "print(d)"
   ]
  },
  {
   "cell_type": "code",
   "execution_count": 7,
   "metadata": {},
   "outputs": [
    {
     "name": "stdout",
     "output_type": "stream",
     "text": [
      "{'car': 'ford', 'body': 10, 'color': 'red'}\n",
      "red\n"
     ]
    }
   ],
   "source": [
    "d={\"car\":\"ford\",\n",
    "   \"body\":10,\"color\":\"red\"}\n",
    "print(d)\n",
    "g=d.get(\"color\")\n",
    "print(g)"
   ]
  },
  {
   "cell_type": "code",
   "execution_count": 8,
   "metadata": {},
   "outputs": [
    {
     "name": "stdout",
     "output_type": "stream",
     "text": [
      "{34, 23, 12, 13, 14}\n",
      "<class 'set'>\n"
     ]
    }
   ],
   "source": [
    "s={12,23,13,34,14}\n",
    "print(s)\n",
    "print(type(s))"
   ]
  }
 ],
 "metadata": {
  "kernelspec": {
   "display_name": "base",
   "language": "python",
   "name": "python3"
  },
  "language_info": {
   "codemirror_mode": {
    "name": "ipython",
    "version": 3
   },
   "file_extension": ".py",
   "mimetype": "text/x-python",
   "name": "python",
   "nbconvert_exporter": "python",
   "pygments_lexer": "ipython3",
   "version": "3.10.10"
  }
 },
 "nbformat": 4,
 "nbformat_minor": 2
}
