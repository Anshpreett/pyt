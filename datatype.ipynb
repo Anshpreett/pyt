{
 "cells": [
  {
   "attachments": {},
   "cell_type": "markdown",
   "metadata": {},
   "source": [
    "# DATA TYPES"
   ]
  },
  {
   "attachments": {},
   "cell_type": "markdown",
   "metadata": {},
   "source": [
    "### int data type is data type of those variable which have only integer value"
   ]
  },
  {
   "cell_type": "code",
   "execution_count": 1,
   "metadata": {},
   "outputs": [
    {
     "name": "stdout",
     "output_type": "stream",
     "text": [
      "a 10 b 230 are int datatype variable\n"
     ]
    }
   ],
   "source": [
    "a=10\n",
    "b=230\n",
    "print(\"a\",a,\"b\",b,\"are int datatype variable\")"
   ]
  },
  {
   "attachments": {},
   "cell_type": "markdown",
   "metadata": {},
   "source": [
    "### string data type is the def  data type when a variable has a user input"
   ]
  },
  {
   "cell_type": "code",
   "execution_count": 2,
   "metadata": {},
   "outputs": [
    {
     "name": "stdout",
     "output_type": "stream",
     "text": [
      "datatype of c is <class 'str'>\n",
      "a, b as well as c is also string variable\n"
     ]
    }
   ],
   "source": [
    "a=\"i am jasjeet\"\n",
    "b='i live in india'\n",
    "c=input(\"enter a number\")\n",
    "d=type(c)\n",
    "print(\"datatype of c is\",d)\n",
    "print(\"a, b as well as c is also string variable\")"
   ]
  },
  {
   "attachments": {},
   "cell_type": "markdown",
   "metadata": {},
   "source": [
    "### float is a data type of that variable having a fractional value "
   ]
  },
  {
   "cell_type": "code",
   "execution_count": 3,
   "metadata": {},
   "outputs": [
    {
     "name": "stdout",
     "output_type": "stream",
     "text": [
      "both f and g are variable having float value\n"
     ]
    }
   ],
   "source": [
    "f=243.31\n",
    "g=32.58744547\n",
    "print(\"both f and g are variable having float value\")"
   ]
  },
  {
   "attachments": {},
   "cell_type": "markdown",
   "metadata": {},
   "source": [
    "### boolean is a data type of that variable which can hold one of the two values (true or false)"
   ]
  },
  {
   "cell_type": "code",
   "execution_count": 4,
   "metadata": {},
   "outputs": [
    {
     "name": "stdout",
     "output_type": "stream",
     "text": [
      "<class 'bool'> is the datatype of h\n"
     ]
    }
   ],
   "source": [
    "h=True\n",
    "g=type(h)\n",
    "print(g,\"is the datatype of h\")"
   ]
  },
  {
   "attachments": {},
   "cell_type": "markdown",
   "metadata": {},
   "source": [
    "### list is the data type of that variable which can hole more then one value of any of above data type and it's value can be changed"
   ]
  },
  {
   "cell_type": "code",
   "execution_count": 5,
   "metadata": {},
   "outputs": [
    {
     "name": "stdout",
     "output_type": "stream",
     "text": [
      "<class 'list'> is the datatype of variable l\n"
     ]
    }
   ],
   "source": [
    "l=[\"eat\",\"ate\",\"mug\",\"hug\"]\n",
    "k=type(l)\n",
    "print(k,\"is the datatype of variable l\")"
   ]
  },
  {
   "attachments": {},
   "cell_type": "markdown",
   "metadata": {},
   "source": [
    "### set is a data type of that variable which can hole more then one value of any other data type and can remove data if they come more then one time in set"
   ]
  },
  {
   "cell_type": "code",
   "execution_count": 6,
   "metadata": {},
   "outputs": [
    {
     "name": "stdout",
     "output_type": "stream",
     "text": [
      "<class 'set'> is the datatype of variable s\n"
     ]
    }
   ],
   "source": [
    "s={\"eat\",\"ate\",\"mug\",\"hug\"}\n",
    "k=type(s)\n",
    "print(k,\"is the datatype of variable s\")"
   ]
  },
  {
   "attachments": {},
   "cell_type": "markdown",
   "metadata": {},
   "source": [
    "### tuple is the data type of that variable which can hole more then one value of any of above data type but it's value can not be changed"
   ]
  },
  {
   "cell_type": "code",
   "execution_count": 7,
   "metadata": {},
   "outputs": [
    {
     "name": "stdout",
     "output_type": "stream",
     "text": [
      "<class 'tuple'> is the datatype of variable t\n"
     ]
    }
   ],
   "source": [
    "t=(\"eat\",\"ate\",\"mug\",\"hug\")\n",
    "k=type(t)\n",
    "print(k,\"is the datatype of variable t\")"
   ]
  },
  {
   "attachments": {},
   "cell_type": "markdown",
   "metadata": {},
   "source": [
    "### dictionary is the data type of that variable which can hole more then one values but to use them we have to use the key given to each"
   ]
  },
  {
   "cell_type": "code",
   "execution_count": 8,
   "metadata": {},
   "outputs": [
    {
     "name": "stdout",
     "output_type": "stream",
     "text": [
      "<class 'dict'> is the datatype variable d\n",
      "Mustang\n"
     ]
    }
   ],
   "source": [
    "d={\"brand\":\"Ford\",\n",
    "   \"model\":\"Mustang\",\n",
    "   \"year\":\"1964\"}\n",
    "u=type(d)\n",
    "print(u,\"is the datatype variable d\")\n",
    "print(d[\"model\"])"
   ]
  },
  {
   "attachments": {},
   "cell_type": "markdown",
   "metadata": {},
   "source": [
    "## type casting"
   ]
  },
  {
   "cell_type": "code",
   "execution_count": 1,
   "metadata": {},
   "outputs": [
    {
     "name": "stdout",
     "output_type": "stream",
     "text": [
      "81\n"
     ]
    }
   ],
   "source": [
    "a=int(81.19)\n",
    "print(a)"
   ]
  },
  {
   "cell_type": "code",
   "execution_count": 2,
   "metadata": {},
   "outputs": [
    {
     "name": "stdout",
     "output_type": "stream",
     "text": [
      "899.0\n"
     ]
    }
   ],
   "source": [
    "b=float(899)\n",
    "print(b)"
   ]
  },
  {
   "cell_type": "code",
   "execution_count": 3,
   "metadata": {},
   "outputs": [
    {
     "name": "stdout",
     "output_type": "stream",
     "text": [
      "<class 'str'>   667558.996\n"
     ]
    }
   ],
   "source": [
    "c=str(667558.996)\n",
    "d=type(c)\n",
    "print(d,\" \",c)"
   ]
  },
  {
   "cell_type": "code",
   "execution_count": 6,
   "metadata": {},
   "outputs": [
    {
     "name": "stdout",
     "output_type": "stream",
     "text": [
      "<class 'int'>   294\n"
     ]
    }
   ],
   "source": [
    "e=int(\"294\")\n",
    "f=type(e)\n",
    "print(f,\" \",e)"
   ]
  }
 ],
 "metadata": {
  "kernelspec": {
   "display_name": "base",
   "language": "python",
   "name": "python3"
  },
  "language_info": {
   "codemirror_mode": {
    "name": "ipython",
    "version": 3
   },
   "file_extension": ".py",
   "mimetype": "text/x-python",
   "name": "python",
   "nbconvert_exporter": "python",
   "pygments_lexer": "ipython3",
   "version": "3.10.10"
  },
  "orig_nbformat": 4
 },
 "nbformat": 4,
 "nbformat_minor": 2
}
