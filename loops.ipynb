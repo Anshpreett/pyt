{
 "cells": [
  {
   "cell_type": "code",
   "execution_count": 1,
   "metadata": {},
   "outputs": [
    {
     "name": "stdout",
     "output_type": "stream",
     "text": [
      "the sum of all numbers in the list is  45\n"
     ]
    }
   ],
   "source": [
    "no=[3,1,2,5,4,8,6,7,9]\n",
    "sum=0\n",
    "for n in no:\n",
    "    sum+=n\n",
    "print(\"the sum of all numbers in the list is \",sum)"
   ]
  },
  {
   "cell_type": "code",
   "execution_count": 1,
   "metadata": {},
   "outputs": [
    {
     "name": "stdout",
     "output_type": "stream",
     "text": [
      "* \n",
      "** \n",
      "*** \n",
      " \n"
     ]
    }
   ],
   "source": [
    "k=1\n",
    "for i in range(1,5):\n",
    "    if i>3:\n",
    "        for k in range(1,i-k):\n",
    "            print(\"*\",end='')\n",
    "        print(\" \")\n",
    "    else:\n",
    "        for j in range(1,i+1):\n",
    "            print(\"*\",end='')\n",
    "        print(\" \")\n",
    "    k=k+1\n"
   ]
  },
  {
   "cell_type": "code",
   "execution_count": 20,
   "metadata": {},
   "outputs": [
    {
     "name": "stdout",
     "output_type": "stream",
     "text": [
      "1 is not a prime number\n",
      "2 is a prime number\n",
      "3 is a prime number\n",
      "4 is not a prime number\n",
      "5 is a prime number\n",
      "6 is not a prime number\n",
      "7 is a prime number\n",
      "8 is not a prime number\n",
      "9 is not a prime number\n",
      "10 is not a prime number\n",
      "11 is a prime number\n",
      "12 is not a prime number\n",
      "13 is a prime number\n",
      "14 is not a prime number\n",
      "15 is not a prime number\n",
      "16 is not a prime number\n",
      "17 is a prime number\n",
      "18 is not a prime number\n",
      "19 is a prime number\n",
      "20 is not a prime number\n",
      "21 is not a prime number\n",
      "22 is not a prime number\n",
      "23 is a prime number\n",
      "24 is not a prime number\n",
      "25 is not a prime number\n",
      "26 is not a prime number\n",
      "27 is not a prime number\n",
      "28 is not a prime number\n",
      "29 is a prime number\n",
      "30 is not a prime number\n",
      "31 is a prime number\n",
      "32 is not a prime number\n",
      "33 is not a prime number\n",
      "34 is not a prime number\n",
      "35 is not a prime number\n",
      "36 is not a prime number\n",
      "37 is a prime number\n",
      "38 is not a prime number\n",
      "39 is not a prime number\n",
      "40 is not a prime number\n",
      "41 is a prime number\n",
      "42 is not a prime number\n",
      "43 is a prime number\n",
      "44 is not a prime number\n",
      "45 is not a prime number\n",
      "46 is not a prime number\n",
      "47 is a prime number\n",
      "48 is not a prime number\n",
      "49 is not a prime number\n",
      "50 is not a prime number\n"
     ]
    }
   ],
   "source": [
    "for i in range(1,51):\n",
    "    c=0\n",
    "    for j in range(1,i+1):\n",
    "        if (i%j)==0:\n",
    "            c=c+1\n",
    "    if c==2:\n",
    "        print(i,\"is a prime number\")\n",
    "    else:\n",
    "        print(i,\"is not a prime number\")"
   ]
  },
  {
   "cell_type": "code",
   "execution_count": 9,
   "metadata": {},
   "outputs": [
    {
     "name": "stdout",
     "output_type": "stream",
     "text": [
      "91 is a magic number\n"
     ]
    }
   ],
   "source": [
    "i=int(input(\"enter a number to be checked as magic number\"))\n",
    "t=i\n",
    "s=0\n",
    "j=True\n",
    "while (j):\n",
    "    d=t%10\n",
    "    s=s+d\n",
    "    t=t//10\n",
    "    if s>9:\n",
    "        t=s\n",
    "        s=0\n",
    "    if s==1:\n",
    "        j=False\n",
    "if s==1:\n",
    "    print(i,\"is a magic number\")\n",
    "else :\n",
    "    print(i,\"is not a magic number\")"
   ]
  }
 ],
 "metadata": {
  "kernelspec": {
   "display_name": "base",
   "language": "python",
   "name": "python3"
  },
  "language_info": {
   "codemirror_mode": {
    "name": "ipython",
    "version": 3
   },
   "file_extension": ".py",
   "mimetype": "text/x-python",
   "name": "python",
   "nbconvert_exporter": "python",
   "pygments_lexer": "ipython3",
   "version": "3.10.10"
  },
  "orig_nbformat": 4
 },
 "nbformat": 4,
 "nbformat_minor": 2
}
