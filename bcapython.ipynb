{
 "cells": [
  {
   "cell_type": "markdown",
   "metadata": {},
   "source": [
    "# Data analysis using python"
   ]
  },
  {
   "cell_type": "markdown",
   "metadata": {},
   "source": [
    "## Q1 define low level language and high level language with 4 example\n",
    "### ans Low level language:- they are close to machine code and are more difficult for humans to read and write.They provide little to no abstraction from the hardware\n",
    "### High level language:- they are far from machine code and are easier for humans to read and write.They provide a lot of abstraction from the hardware\n",
    "### example of low level language\n",
    "#### 1. Assembly language\n",
    "#### 2. C\n",
    "#### 3. C++\n",
    "#### 4. Fortran\n",
    "### example of high level language\n",
    "#### 1. Python\n",
    "#### 2. Java\n",
    "#### 3. C#\n",
    "#### 4. JavaScript\n",
    "\n",
    "## Q2 discuss various applications and features of python\n",
    "### ans Python is a high-level, interpreted programming language that is widely used for various purposes such as\n",
    "#### web development\n",
    "#### scientific computing\n",
    "#### data analysis\n",
    "#### machine learning\n",
    "### features of python\n",
    "#### 1. Easy to learn and use\n",
    "#### 2. High-level language\n",
    "#### 3. Dynamic typing\n",
    "#### 4. Object-oriented\n",
    "#### 5. Extensive libraries and frameworks\n",
    "#### 6. Cross-platform\n",
    "#### 7. Large community"
   ]
  },
  {
   "cell_type": "markdown",
   "metadata": {},
   "source": [
    "# Numpy library for array "
   ]
  },
  {
   "cell_type": "code",
   "execution_count": 1,
   "metadata": {},
   "outputs": [
    {
     "name": "stdout",
     "output_type": "stream",
     "text": [
      "<class 'numpy.ndarray'>\n",
      "[1 2 3 4 5]\n"
     ]
    }
   ],
   "source": [
    "import numpy as np\n",
    "ar = np.array([1,2,3,4,5],int)\n",
    "print(type(ar))\n",
    "print(ar)"
   ]
  },
  {
   "cell_type": "code",
   "execution_count": 2,
   "metadata": {},
   "outputs": [
    {
     "name": "stdout",
     "output_type": "stream",
     "text": [
      "<class 'numpy.ndarray'>\n",
      "[1.4  2.   3.23 4.5  5.7 ]\n"
     ]
    }
   ],
   "source": [
    "arr = np.array([1.4,2.0,3.23,4.5,5.7],float)\n",
    "print(type(arr))\n",
    "print(arr)"
   ]
  },
  {
   "cell_type": "code",
   "execution_count": null,
   "metadata": {},
   "outputs": [],
   "source": []
  }
 ],
 "metadata": {
  "kernelspec": {
   "display_name": "Python 3",
   "language": "python",
   "name": "python3"
  },
  "language_info": {
   "codemirror_mode": {
    "name": "ipython",
    "version": 3
   },
   "file_extension": ".py",
   "mimetype": "text/x-python",
   "name": "python",
   "nbconvert_exporter": "python",
   "pygments_lexer": "ipython3",
   "version": "3.11.4"
  }
 },
 "nbformat": 4,
 "nbformat_minor": 2
}
