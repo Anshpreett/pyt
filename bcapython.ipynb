{
 "cells": [
  {
   "cell_type": "markdown",
   "metadata": {},
   "source": [
    "# Data analysis using python"
   ]
  },
  {
   "cell_type": "markdown",
   "metadata": {},
   "source": [
    "## Q1 define low level language and high level language with 4 example\n",
    "### ans Low level language:- they are close to machine code and are more difficult for humans to read and write.They provide little to no abstraction from the hardware\n",
    "### High level language:- they are far from machine code and are easier for humans to read and write.They provide a lot of abstraction from the hardware\n",
    "### example of low level language\n",
    "#### 1. Assembly language\n",
    "#### 2. C\n",
    "#### 3. C++\n",
    "#### 4. Fortran\n",
    "### example of high level language\n",
    "#### 1. Python\n",
    "#### 2. Java\n",
    "#### 3. C#\n",
    "#### 4. JavaScript\n",
    "\n",
    "## Q2 discuss various applications and features of python\n",
    "### ans Python is a high-level, interpreted programming language that is widely used for various purposes such as\n",
    "#### web development\n",
    "#### scientific computing\n",
    "#### data analysis\n",
    "#### machine learning\n",
    "### features of python\n",
    "#### 1. Easy to learn and use\n",
    "#### 2. High-level language\n",
    "#### 3. Dynamic typing\n",
    "#### 4. Object-oriented\n",
    "#### 5. Extensive libraries and frameworks\n",
    "#### 6. Cross-platform\n",
    "#### 7. Large community"
   ]
  },
  {
   "cell_type": "markdown",
   "metadata": {},
   "source": [
    "# Numpy library for array "
   ]
  },
  {
   "cell_type": "markdown",
   "metadata": {},
   "source": [
    "## --------------------------------------------------INTEGER------------------------------------------------------"
   ]
  },
  {
   "cell_type": "code",
   "execution_count": 75,
   "metadata": {},
   "outputs": [
    {
     "name": "stdout",
     "output_type": "stream",
     "text": [
      "<class 'numpy.ndarray'>\n",
      "[1 2 3 4 5]\n"
     ]
    }
   ],
   "source": [
    "import numpy as np\n",
    "ar = np.array([1,2,3,4,5],int)\n",
    "print(type(ar))\n",
    "print(ar)"
   ]
  },
  {
   "cell_type": "markdown",
   "metadata": {},
   "source": [
    "## ---------------------------------------------------FLOAT--------------------------------------------------------"
   ]
  },
  {
   "cell_type": "code",
   "execution_count": 76,
   "metadata": {},
   "outputs": [
    {
     "name": "stdout",
     "output_type": "stream",
     "text": [
      "<class 'numpy.ndarray'>\n",
      "[1.4  2.   3.23 4.5  5.7 ]\n"
     ]
    }
   ],
   "source": [
    "arr = np.array([1.4,2.0,3.23,4.5,5.7],float)\n",
    "print(type(arr))\n",
    "print(arr)"
   ]
  },
  {
   "cell_type": "markdown",
   "metadata": {},
   "source": [
    "## ------------------------------------------------CHARACTER----------------------------------------------------"
   ]
  },
  {
   "cell_type": "code",
   "execution_count": 77,
   "metadata": {},
   "outputs": [
    {
     "name": "stdout",
     "output_type": "stream",
     "text": [
      "<class 'numpy.ndarray'>\n",
      "['i' 'e' 'o']\n"
     ]
    }
   ],
   "source": [
    "arr = np.array(['i','e','o'])\n",
    "print(type(arr))\n",
    "print(arr)"
   ]
  },
  {
   "cell_type": "markdown",
   "metadata": {},
   "source": [
    "## ---------------------------------------------------STRING------------------------------------------------------"
   ]
  },
  {
   "cell_type": "code",
   "execution_count": 78,
   "metadata": {},
   "outputs": [
    {
     "name": "stdout",
     "output_type": "stream",
     "text": [
      "<class 'numpy.ndarray'>\n",
      "['hi' 'hehe' 'hello']\n"
     ]
    }
   ],
   "source": [
    "arr = np.array([\"hi\",\"hehe\",\"hello\"])\n",
    "print(type(arr))\n",
    "print(arr)"
   ]
  },
  {
   "cell_type": "markdown",
   "metadata": {},
   "source": [
    "## -------------------------------------Accessing the function of 1-D array--------------------------------------\n",
    "### 1 Modefying an element at a specific index\n",
    "### 2 Determine characterstics of the array\n",
    "#### 2.1 To identify size of array\n",
    "#### 2.2 To identify data type of array\n",
    "### 3 Mathematic function\n",
    "#### 3.1 Sort the element of the array\n",
    "#### 3.2 To identify power of all elements of array\n",
    "#### 3.3 To identify squre root of all array element\n",
    "#### 3.4 To identify absolute value of all array elements\n",
    "### 4 Trigonometric function\n",
    "#### 4.1 To identify sine of all array elements\n",
    "#### 4.2 To identify cosine of all array elements\n",
    "#### 4.3 To identify tangent of all array elements\n",
    "### 5 Logrithmic/exponential function\n",
    "#### 5.1 To identify log with exponential base of all array elements\n",
    "#### 5.2 To identify log with base 10 of all array elements\n",
    "#### 5.3 To identify exponential value of all array elements\n",
    "### 6 Statistical function\n",
    "#### 6.1 To identify main value of all elements of array\n",
    "#### 6.2 To identify median value of all elements of array \n",
    "#### 6.3 To identify min value of all elements of array\n",
    "#### 6.4 To identify max value of all elements of array\n",
    "#### 6.5 To identify sum of all elements of array\n",
    "#### 6.6 To identify product of all elements of array\n",
    "## -------------------------------------------------PROGRAM-----------------------------------------------------"
   ]
  },
  {
   "cell_type": "code",
   "execution_count": 79,
   "metadata": {},
   "outputs": [
    {
     "name": "stdout",
     "output_type": "stream",
     "text": [
      "ANS:-  [ 1  2  3 40  5]\n"
     ]
    }
   ],
   "source": [
    "arr = np.array([1,2,3,4,5])\n",
    "arr [3]=40\n",
    "print(\"ANS:- \",arr)"
   ]
  },
  {
   "cell_type": "code",
   "execution_count": 80,
   "metadata": {},
   "outputs": [
    {
     "name": "stdout",
     "output_type": "stream",
     "text": [
      "ANS:-  [ 1  2  3 40  5]\n",
      "ANS:-  5\n"
     ]
    }
   ],
   "source": [
    "arr = np.array([1,2,3,4,5])\n",
    "arr [3]=40\n",
    "print(\"ANS:- \",arr)\n",
    "print(\"ANS:- \",arr.size)"
   ]
  },
  {
   "cell_type": "code",
   "execution_count": 81,
   "metadata": {},
   "outputs": [
    {
     "name": "stdout",
     "output_type": "stream",
     "text": [
      "ANS:-  [1 2 3 4 5]\n",
      "ANS:-  int32\n"
     ]
    }
   ],
   "source": [
    "arr = np.array([1,2,3,4,5])\n",
    "print(\"ANS:- \",arr)\n",
    "print(\"ANS:- \",arr.dtype)"
   ]
  },
  {
   "cell_type": "code",
   "execution_count": 82,
   "metadata": {},
   "outputs": [
    {
     "name": "stdout",
     "output_type": "stream",
     "text": [
      "ANS:-  [1 2 3 4 5]\n",
      "ANS:-  3.0\n"
     ]
    }
   ],
   "source": [
    "arr = np.array([1,2,3,4,5])\n",
    "print(\"ANS:- \",arr)\n",
    "print(\"ANS:- \",np.mean(arr))"
   ]
  },
  {
   "cell_type": "code",
   "execution_count": 83,
   "metadata": {},
   "outputs": [
    {
     "name": "stdout",
     "output_type": "stream",
     "text": [
      "ANS:-  [1 2 3 4 5]\n",
      "ANS:-  3.0\n"
     ]
    }
   ],
   "source": [
    "arr = np.array([1,2,3,4,5])\n",
    "print(\"ANS:- \",arr)\n",
    "print(\"ANS:- \",np.median(arr))"
   ]
  },
  {
   "cell_type": "code",
   "execution_count": 84,
   "metadata": {},
   "outputs": [
    {
     "name": "stdout",
     "output_type": "stream",
     "text": [
      "ANS:-  [1 2 3 4 5]\n",
      "ANS:-  1\n"
     ]
    }
   ],
   "source": [
    "arr = np.array([1,2,3,4,5])\n",
    "print(\"ANS:- \",arr)\n",
    "print(\"ANS:- \",np.min(arr))"
   ]
  },
  {
   "cell_type": "code",
   "execution_count": 85,
   "metadata": {},
   "outputs": [
    {
     "name": "stdout",
     "output_type": "stream",
     "text": [
      "ANS:-  [1 2 3 4 5]\n",
      "ANS:-  5\n"
     ]
    }
   ],
   "source": [
    "arr = np.array([1,2,3,4,5])\n",
    "print(\"ANS:- \",arr)\n",
    "print(\"ANS:- \",np.max(arr))"
   ]
  },
  {
   "cell_type": "code",
   "execution_count": 86,
   "metadata": {},
   "outputs": [
    {
     "name": "stdout",
     "output_type": "stream",
     "text": [
      "ANS:-  [1 2 3 4 5]\n",
      "ANS:-  15\n"
     ]
    }
   ],
   "source": [
    "arr = np.array([1,2,3,4,5])\n",
    "print(\"ANS:- \",arr)\n",
    "print(\"ANS:- \",np.sum(arr))"
   ]
  },
  {
   "cell_type": "code",
   "execution_count": 87,
   "metadata": {},
   "outputs": [
    {
     "name": "stdout",
     "output_type": "stream",
     "text": [
      "ANS:-  [1 2 3 4 5]\n",
      "ANS:-  120\n"
     ]
    }
   ],
   "source": [
    "arr = np.array([1,2,3,4,5])\n",
    "print(\"ANS:- \",arr)\n",
    "print(\"ANS:- \",np.prod(arr))"
   ]
  },
  {
   "cell_type": "code",
   "execution_count": 88,
   "metadata": {},
   "outputs": [
    {
     "name": "stdout",
     "output_type": "stream",
     "text": [
      "ANS:-  [1 2 3 4 5]\n",
      "ANS:-  [1 2 3 4 5]\n"
     ]
    }
   ],
   "source": [
    "arr = np.array([1,2,3,4,5])\n",
    "print(\"ANS:- \",arr)\n",
    "print(\"ANS:- \",np.sort(arr))"
   ]
  },
  {
   "cell_type": "code",
   "execution_count": 89,
   "metadata": {},
   "outputs": [
    {
     "name": "stdout",
     "output_type": "stream",
     "text": [
      "ANS:-  [1 2 3 4 5]\n",
      "ANS:-  [ 1  4  9 16 25]\n"
     ]
    }
   ],
   "source": [
    "arr = np.array([1,2,3,4,5])\n",
    "print(\"ANS:- \",arr)\n",
    "print(\"ANS:- \",np.power(arr,2))"
   ]
  },
  {
   "cell_type": "code",
   "execution_count": 90,
   "metadata": {},
   "outputs": [
    {
     "name": "stdout",
     "output_type": "stream",
     "text": [
      "ANS:-  [1 2 3 4 5]\n",
      "ANS:-  [ 0.84147098  0.90929743  0.14112001 -0.7568025  -0.95892427]\n"
     ]
    }
   ],
   "source": [
    "arr = np.array([1,2,3,4,5])\n",
    "print(\"ANS:- \",arr)\n",
    "print(\"ANS:- \",np.sin(arr))"
   ]
  },
  {
   "cell_type": "code",
   "execution_count": 91,
   "metadata": {},
   "outputs": [
    {
     "name": "stdout",
     "output_type": "stream",
     "text": [
      "ANS:-  [1 2 3 4 5]\n",
      "ANS:-  [ 0.54030231 -0.41614684 -0.9899925  -0.65364362  0.28366219]\n"
     ]
    }
   ],
   "source": [
    "arr = np.array([1,2,3,4,5])\n",
    "print(\"ANS:- \",arr)\n",
    "print(\"ANS:- \",np.cos(arr))"
   ]
  },
  {
   "cell_type": "code",
   "execution_count": 92,
   "metadata": {},
   "outputs": [
    {
     "name": "stdout",
     "output_type": "stream",
     "text": [
      "ANS:-  [1 2 3 4 5]\n",
      "ANS:-  [ 1.55740772 -2.18503986 -0.14254654  1.15782128 -3.38051501]\n"
     ]
    }
   ],
   "source": [
    "arr = np.array([1,2,3,4,5])\n",
    "print(\"ANS:- \",arr)\n",
    "print(\"ANS:- \",np.tan(arr))"
   ]
  },
  {
   "cell_type": "code",
   "execution_count": 93,
   "metadata": {},
   "outputs": [
    {
     "name": "stdout",
     "output_type": "stream",
     "text": [
      "ANS:-  [1 2 3 4 5]\n",
      "ANS:-  [1.         1.41421356 1.73205081 2.         2.23606798]\n"
     ]
    }
   ],
   "source": [
    "arr = np.array([1,2,3,4,5])\n",
    "print(\"ANS:- \",arr)\n",
    "print(\"ANS:- \",np.sqrt(arr))"
   ]
  },
  {
   "cell_type": "code",
   "execution_count": 94,
   "metadata": {},
   "outputs": [
    {
     "name": "stdout",
     "output_type": "stream",
     "text": [
      "ANS:-  [1 2 3 4 5]\n",
      "ANS:-  [1 2 3 4 5]\n"
     ]
    }
   ],
   "source": [
    "arr = np.array([1,2,3,4,5])\n",
    "print(\"ANS:- \",arr)\n",
    "print(\"ANS:- \",np.abs(arr))"
   ]
  },
  {
   "cell_type": "code",
   "execution_count": 95,
   "metadata": {},
   "outputs": [
    {
     "name": "stdout",
     "output_type": "stream",
     "text": [
      "first array  [1 2 3 4 5]\n",
      "second array  [ 6  7  8  9 10]\n",
      "addition of a and ar is  [ 7  9 11 13 15]\n",
      "subtraction of ar by a is  [ 7  9 11 13 15]\n",
      "multiplication of a and ar is  [ 7  9 11 13 15]\n",
      "division of ar by a is  [ 7  9 11 13 15]\n",
      "moduloses of ar by a is  [ 7  9 11 13 15]\n"
     ]
    }
   ],
   "source": [
    "a = np.array([1,2,3,4,5])\n",
    "ar = np.array([6,7,8,9,10])\n",
    "arr = a+ar\n",
    "arra = ar-a\n",
    "array = ar*a\n",
    "arrays = ar/a\n",
    "ar1 = ar%a\n",
    "print(\"first array \",a)\n",
    "print(\"second array \",ar)\n",
    "print(\"addition of a and ar is \",arr)\n",
    "print(\"subtraction of ar by a is \",arr)\n",
    "print(\"multiplication of a and ar is \",arr)\n",
    "print(\"division of ar by a is \",arr)\n",
    "print(\"moduloses of ar by a is \",arr)"
   ]
  },
  {
   "cell_type": "markdown",
   "metadata": {},
   "source": [
    "## Relational Operator\n",
    "### > Greater than\n",
    "### < Less than\n",
    "### >= Greater than equal to\n",
    "### <= Less than equal to\n",
    "### == Equal to\n",
    "### != Not equal to\n",
    "## Logical Operator\n",
    "### and && AND Logical \n",
    "### or || OR Logical \n",
    "### not ! NOT Logical "
   ]
  },
  {
   "cell_type": "markdown",
   "metadata": {},
   "source": [
    "## Truth table\n",
    "### A truth table is a table that lists all possible combinations of inputs to a logical expression and the resulting"
   ]
  },
  {
   "cell_type": "code",
   "execution_count": 96,
   "metadata": {},
   "outputs": [
    {
     "name": "stdout",
     "output_type": "stream",
     "text": [
      "first array  [11 20 33]\n",
      "second array  [12 20 30]\n",
      "[False False  True]\n",
      "[ True False False]\n",
      "[False  True  True]\n",
      "[ True  True False]\n",
      "[ True False  True]\n",
      "[False  True False]\n"
     ]
    }
   ],
   "source": [
    "ar = np.array([11,20,33])\n",
    "arr = np.array([12,20,30])\n",
    "a1 = ar > arr\n",
    "a2 = ar < arr\n",
    "a3 = ar >= arr\n",
    "a4 = ar <= arr\n",
    "a5 = ar != arr\n",
    "a6 = ar == arr\n",
    "print(\"first array \", ar)\n",
    "print(\"second array \", arr)\n",
    "print(a1)\n",
    "print(a2)\n",
    "print(a3)\n",
    "print(a4)\n",
    "print(a5)\n",
    "print(a6)"
   ]
  },
  {
   "cell_type": "markdown",
   "metadata": {},
   "source": [
    "# Multidimentional array"
   ]
  },
  {
   "cell_type": "markdown",
   "metadata": {},
   "source": [
    "## ---------------------------------------------------Functions----------------------------------------------------"
   ]
  },
  {
   "cell_type": "markdown",
   "metadata": {},
   "source": [
    "### Some function for 2d array are\n",
    "#### Array()\n",
    "#### matrix()\n",
    "#### reshape()\n",
    "#### 0's and 1's()"
   ]
  },
  {
   "cell_type": "code",
   "execution_count": 97,
   "metadata": {},
   "outputs": [
    {
     "name": "stdout",
     "output_type": "stream",
     "text": [
      "2-D array is \n",
      "[[100 200 300]\n",
      " [400 500 600]\n",
      " [700 800 900]]\n"
     ]
    }
   ],
   "source": [
    "a = np.array([[100,200,300],[400,500,600],[700,800,900]])\n",
    "print(\"2-D array is \")\n",
    "print(a)"
   ]
  },
  {
   "cell_type": "code",
   "execution_count": 98,
   "metadata": {},
   "outputs": [
    {
     "name": "stdout",
     "output_type": "stream",
     "text": [
      "2-D array is \n",
      "[[100 200 300]\n",
      " [400 500 600]\n",
      " [700 800 900]]\n"
     ]
    }
   ],
   "source": [
    "a = np.matrix('100,200,300;400,500,600;700,800,900')\n",
    "print(\"2-D array is \")\n",
    "print(a)"
   ]
  },
  {
   "cell_type": "code",
   "execution_count": 99,
   "metadata": {},
   "outputs": [
    {
     "name": "stdout",
     "output_type": "stream",
     "text": [
      "2-D array is \n",
      "[[100 200 300]\n",
      " [400 500 600]]\n"
     ]
    }
   ],
   "source": [
    "a = np.array([[100,200,300],[400,500,600]])\n",
    "ar = np.reshape(a,(2,3))\n",
    "print(\"2-D array is \")\n",
    "print(a)"
   ]
  },
  {
   "cell_type": "code",
   "execution_count": 100,
   "metadata": {},
   "outputs": [
    {
     "name": "stdout",
     "output_type": "stream",
     "text": [
      "2-D array is \n",
      "[[100 200]\n",
      " [300 400]\n",
      " [500 600]]\n"
     ]
    }
   ],
   "source": [
    "a = np.reshape((100,200,300,400,500,600),(3,2))\n",
    "print(\"2-D array is \")\n",
    "print(a)"
   ]
  },
  {
   "cell_type": "code",
   "execution_count": 101,
   "metadata": {},
   "outputs": [
    {
     "name": "stdout",
     "output_type": "stream",
     "text": [
      "2-D array is \n",
      "[[0. 0.]\n",
      " [0. 0.]\n",
      " [0. 0.]\n",
      " [0. 0.]]\n"
     ]
    }
   ],
   "source": [
    "a = np.zeros((4,2))\n",
    "print(\"2-D array is \")\n",
    "print(a)"
   ]
  },
  {
   "cell_type": "code",
   "execution_count": 102,
   "metadata": {},
   "outputs": [
    {
     "name": "stdout",
     "output_type": "stream",
     "text": [
      "2-D array is \n",
      "[[1. 1.]\n",
      " [1. 1.]\n",
      " [1. 1.]\n",
      " [1. 1.]]\n"
     ]
    }
   ],
   "source": [
    "a = np.ones((4,2))\n",
    "print(\"2-D array is \")\n",
    "print(a)"
   ]
  },
  {
   "cell_type": "markdown",
   "metadata": {},
   "source": [
    "### Slicing"
   ]
  },
  {
   "cell_type": "code",
   "execution_count": 103,
   "metadata": {},
   "outputs": [
    {
     "name": "stdout",
     "output_type": "stream",
     "text": [
      "[[100 120 140 160 180]\n",
      " [200 220 240 260 280]\n",
      " [300 320 340 360 380]\n",
      " [400 420 440 460 480]]\n",
      "First tow rows are :  [[100 120 140 160 180]\n",
      " [200 220 240 260 280]]\n",
      "First tow rows and first column are :  [100 200]\n",
      "Second row and second to forth column :  [220 240 260]\n"
     ]
    }
   ],
   "source": [
    "# normal slice\n",
    "a = np.reshape(range(100,500,20),(4,5))\n",
    "print(a)\n",
    "# slicing by only row indexes\n",
    "print(\"First tow rows are : \",a[0:2])\n",
    "# slicing by row and columns\n",
    "print(\"First tow rows and first column are : \",a[0:2,0])\n",
    "print(\"Second row and second to forth column : \",a[1,1:4])"
   ]
  },
  {
   "cell_type": "markdown",
   "metadata": {},
   "source": [
    "### Transpose"
   ]
  },
  {
   "cell_type": "code",
   "execution_count": 104,
   "metadata": {},
   "outputs": [
    {
     "name": "stdout",
     "output_type": "stream",
     "text": [
      "[[100 120 140 160 180]\n",
      " [200 220 240 260 280]\n",
      " [300 320 340 360 380]\n",
      " [400 420 440 460 480]]\n",
      "[[100 200 300 400]\n",
      " [120 220 320 420]\n",
      " [140 240 340 440]\n",
      " [160 260 360 460]\n",
      " [180 280 380 480]]\n"
     ]
    }
   ],
   "source": [
    "a = np.reshape(range(100,500,20),(4,5))\n",
    "print(a)\n",
    "print(a.transpose())"
   ]
  },
  {
   "cell_type": "markdown",
   "metadata": {},
   "source": [
    "### Shape"
   ]
  },
  {
   "cell_type": "code",
   "execution_count": 105,
   "metadata": {},
   "outputs": [
    {
     "name": "stdout",
     "output_type": "stream",
     "text": [
      "[[100 120 140 160 180]\n",
      " [200 220 240 260 280]\n",
      " [300 320 340 360 380]\n",
      " [400 420 440 460 480]]\n",
      "(4, 5)\n"
     ]
    }
   ],
   "source": [
    "a = np.reshape(range(100,500,20),(4,5))\n",
    "print(a)\n",
    "print(a.shape)"
   ]
  },
  {
   "cell_type": "markdown",
   "metadata": {},
   "source": [
    "### Flatten"
   ]
  },
  {
   "cell_type": "code",
   "execution_count": 106,
   "metadata": {},
   "outputs": [
    {
     "name": "stdout",
     "output_type": "stream",
     "text": [
      "[[100 120 140 160 180]\n",
      " [200 220 240 260 280]\n",
      " [300 320 340 360 380]\n",
      " [400 420 440 460 480]]\n",
      "[100 120 140 160 180 200 220 240 260 280 300 320 340 360 380 400 420 440\n",
      " 460 480]\n"
     ]
    }
   ],
   "source": [
    "a = np.reshape(range(100,500,20),(4,5))\n",
    "print(a)\n",
    "print(a.flatten())"
   ]
  },
  {
   "cell_type": "markdown",
   "metadata": {},
   "source": [
    "### Sort"
   ]
  },
  {
   "cell_type": "code",
   "execution_count": 107,
   "metadata": {},
   "outputs": [
    {
     "name": "stdout",
     "output_type": "stream",
     "text": [
      "[[100 120 140 160 180]\n",
      " [200 220 240 260 280]\n",
      " [300 320 340 360 380]\n",
      " [400 420 440 460 480]]\n",
      "[[100 120 140 160 180]\n",
      " [200 220 240 260 280]\n",
      " [300 320 340 360 380]\n",
      " [400 420 440 460 480]]\n"
     ]
    }
   ],
   "source": [
    "a = np.reshape(range(100,500,20),(4,5))\n",
    "print(a)\n",
    "print(np.sort(a))"
   ]
  },
  {
   "cell_type": "markdown",
   "metadata": {},
   "source": [
    "### Axis"
   ]
  },
  {
   "cell_type": "code",
   "execution_count": 108,
   "metadata": {},
   "outputs": [
    {
     "name": "stdout",
     "output_type": "stream",
     "text": [
      "[[100 120 140 160 180]\n",
      " [200 220 240 260 280]\n",
      " [300 320 340 360 380]\n",
      " [400 420 440 460 480]]\n",
      "[[100 120 140 160 180]\n",
      " [200 220 240 260 280]\n",
      " [300 320 340 360 380]\n",
      " [400 420 440 460 480]]\n",
      "[[100 120 140 160 180]\n",
      " [200 220 240 260 280]\n",
      " [300 320 340 360 380]\n",
      " [400 420 440 460 480]]\n"
     ]
    }
   ],
   "source": [
    "a = np.reshape(range(100,500,20),(4,5))\n",
    "print(a)\n",
    "print(np.sort(a,axis=0))\n",
    "# axis =0 gives the default matrix\n",
    "print(np.sort(a,axis=1))"
   ]
  },
  {
   "cell_type": "markdown",
   "metadata": {},
   "source": [
    "### Diagonal"
   ]
  },
  {
   "cell_type": "code",
   "execution_count": 109,
   "metadata": {},
   "outputs": [
    {
     "name": "stdout",
     "output_type": "stream",
     "text": [
      "[[100 120 140 160 180]\n",
      " [200 220 240 260 280]\n",
      " [300 320 340 360 380]\n",
      " [400 420 440 460 480]]\n",
      "[100 220 340 460]\n"
     ]
    }
   ],
   "source": [
    "a = np.reshape(range(100,500,20),(4,5))\n",
    "print(a)\n",
    "print(np.diagonal(a))"
   ]
  }
 ],
 "metadata": {
  "kernelspec": {
   "display_name": "Python 3",
   "language": "python",
   "name": "python3"
  },
  "language_info": {
   "codemirror_mode": {
    "name": "ipython",
    "version": 3
   },
   "file_extension": ".py",
   "mimetype": "text/x-python",
   "name": "python",
   "nbconvert_exporter": "python",
   "pygments_lexer": "ipython3",
   "version": "3.11.4"
  }
 },
 "nbformat": 4,
 "nbformat_minor": 2
}
